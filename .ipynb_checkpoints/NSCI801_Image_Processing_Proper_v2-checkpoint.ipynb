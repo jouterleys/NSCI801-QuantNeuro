{
 "cells": [
  {
   "cell_type": "markdown",
   "metadata": {
    "id": "YN_88ZVKLAhU"
   },
   "source": [
    "# Review"
   ]
  },
  {
   "cell_type": "markdown",
   "metadata": {
    "id": "KYVh-KwDLAhW"
   },
   "source": [
    "Well, Class We've arrived:"
   ]
  },
  {
   "cell_type": "markdown",
   "metadata": {
    "id": "KL3RV4tqLAhX"
   },
   "source": [
    "![Screenshot%202020-02-23%2018.44.43.png](https://github.com/BlohmLab/NSCI801-QuantNeuro/blob/master/Figures/lastlec.png?raw=1)"
   ]
  },
  {
   "cell_type": "markdown",
   "metadata": {
    "id": "PY5hPpY7LAhZ"
   },
   "source": [
    "So what are we going over today? \n",
    "\n",
    "# Image processing"
   ]
  },
  {
   "cell_type": "markdown",
   "metadata": {
    "id": "mlPFzvknLAhb"
   },
   "source": [
    "Scikit-image is a Python package dedicated to image processing, and using natively NumPy arrays as image objects. This lecture describes how to use scikit-image on various image processing tasks, and links it with other scientific Python modules such as NumPy and SciPy"
   ]
  },
  {
   "cell_type": "markdown",
   "metadata": {
    "id": "kqOSZ32uLAhc"
   },
   "source": [
    "Digital image processing allows the use of much more complex algorithms, and hence, can offer both more sophisticated performance at simple tasks, and the implementation of methods which would be impossible by analog means."
   ]
  },
  {
   "cell_type": "markdown",
   "metadata": {
    "id": "aV4cihXBLAhd"
   },
   "source": [
    "Why?\n",
    "\n",
    "In particular, digital image processing is the only practical technology for:\n",
    "\n",
    "Classification\n",
    "\n",
    "Feature extraction\n",
    "\n",
    "Multi-scale signal analysis\n",
    "\n",
    "Pattern recognition\n",
    "\n",
    "Projection"
   ]
  },
  {
   "cell_type": "markdown",
   "metadata": {
    "id": "dgPzH0btLAhe"
   },
   "source": [
    "But I digress, Image processing could be useful in reading radiology reports. \n",
    "\n",
    "Before we jump ahead we need to figure out how to display images:"
   ]
  },
  {
   "cell_type": "markdown",
   "metadata": {
    "id": "_sq5oadzLAhf"
   },
   "source": [
    "The package to use is Matplotlib, and displaying 2D images is done using imshow:"
   ]
  },
  {
   "cell_type": "code",
   "execution_count": 1,
   "metadata": {
    "id": "_mHwLrbqLAhf",
    "outputId": "6b316732-08f8-42d3-96a3-f371b5e1b345"
   },
   "outputs": [
    {
     "data": {
      "image/png": "[encoded data removed]",
      "text/plain": [
       "<Figure size 432x288 with 1 Axes>"
      ]
     },
     "metadata": {
      "needs_background": "light"
     },
     "output_type": "display_data"
    }
   ],
   "source": [
    "import numpy as np\n",
    "check = np.zeros((9, 9))\n",
    "check[::2, 1::2] = 1\n",
    "check[1::2, ::2] = 1\n",
    "\n",
    "import matplotlib.pyplot as plt\n",
    "plt.imshow(check, cmap='gray', interpolation='nearest') \n",
    "plt.show()"
   ]
  },
  {
   "cell_type": "markdown",
   "metadata": {
    "id": "3RaBlXFbLAhi"
   },
   "source": [
    "We did it:\n",
    "\n",
    "![alt text](https://github.com/BlohmLab/NSCI801-QuantNeuro/blob/master/Figures/Boom.png?raw=1)"
   ]
  },
  {
   "cell_type": "markdown",
   "metadata": {
    "id": "Xqych1JwLAhj"
   },
   "source": [
    "Creating a simple figure for plotting"
   ]
  },
  {
   "cell_type": "markdown",
   "metadata": {
    "id": "A7BKG0HBLAhk"
   },
   "source": [
    "## Input/output and data types "
   ]
  },
  {
   "cell_type": "markdown",
   "metadata": {
    "id": "Cjxn0Hn4LAhl"
   },
   "source": [
    "Reading from files: skimage.io.imread()\n",
    "\n",
    "Works with all data formats supported by the Python Imaging Library (or any other I/O plugin provided to imread with the plugin keyword argument).\n",
    "\n",
    "Also works with URL image paths:"
   ]
  },
  {
   "cell_type": "code",
   "execution_count": 2,
   "metadata": {
    "id": "6QjRRG8QLAhl",
    "outputId": "417ae573-e3c9-45bc-e5ab-f3108a3e3adc"
   },
   "outputs": [
    {
     "ename": "ModuleNotFoundError",
     "evalue": "No module named 'skimage'",
     "output_type": "error",
     "traceback": [
      "\u001b[1;31m---------------------------------------------------------------------------\u001b[0m",
      "\u001b[1;31mModuleNotFoundError\u001b[0m                       Traceback (most recent call last)",
      "Input \u001b[1;32mIn [2]\u001b[0m, in \u001b[0;36m<module>\u001b[1;34m\u001b[0m\n\u001b[1;32m----> 1\u001b[0m \u001b[38;5;28;01mfrom\u001b[39;00m \u001b[38;5;21;01mskimage\u001b[39;00m \u001b[38;5;28;01mimport\u001b[39;00m io, filters\n\u001b[0;32m      2\u001b[0m \u001b[38;5;28;01mfrom\u001b[39;00m \u001b[38;5;21;01mskimage\u001b[39;00m \u001b[38;5;28;01mimport\u001b[39;00m data\n\u001b[0;32m      3\u001b[0m \u001b[38;5;28;01mimport\u001b[39;00m \u001b[38;5;21;01mskimage\u001b[39;00m \u001b[38;5;28;01mas\u001b[39;00m \u001b[38;5;21;01mski\u001b[39;00m\n",
      "\u001b[1;31mModuleNotFoundError\u001b[0m: No module named 'skimage'"
     ]
    }
   ],
   "source": [
    "from skimage import io, filters\n",
    "from skimage import data\n",
    "import skimage as ski\n",
    "import os\n",
    "filename = os.path.join(ski.data_dir, 'camera.png')\n",
    "camera = io.imread(filename)\n",
    "# logo = io.imread('http://scikit-image.org/_static/img/logo.png')\n",
    "plt.imshow(camera, cmap='gray', interpolation='nearest') \n",
    "plt.show()"
   ]
  },
  {
   "cell_type": "markdown",
   "metadata": {
    "id": "301vyzhILAhn"
   },
   "source": [
    "Or we can do local files as well..... for example:"
   ]
  },
  {
   "cell_type": "code",
   "execution_count": null,
   "metadata": {
    "id": "EBKP35cHLAho",
    "outputId": "e9b22c2b-551a-4c32-b065-efb400ca5c78"
   },
   "outputs": [],
   "source": [
    "filename2 = '/Users/joe/Downloads/dixie.jpg'\n",
    "dixie = io.imread(filename2)\n",
    "plt.imshow(dixie, cmap='gray', interpolation='nearest') \n",
    "plt.show()"
   ]
  },
  {
   "cell_type": "markdown",
   "metadata": {
    "id": "xXOGm2GMLAhq"
   },
   "source": [
    "Image ndarrays can be represented either by integers (signed or unsigned) or floats.\n",
    "\n",
    "Careful with overflows with integer data types\n",
    "\n",
    "Different integer sizes are possible: 8-, 16- or 32-bytes, signed or unsigned."
   ]
  },
  {
   "cell_type": "code",
   "execution_count": null,
   "metadata": {
    "id": "IwxRGcziLAhq",
    "outputId": "da3decfd-8b4f-410f-cab8-35d6fd5dd80f"
   },
   "outputs": [],
   "source": [
    "print(camera.dtype)\n",
    "print(camera.shape)\n",
    "filtered_camera = filters.gaussian(camera, 1)\n",
    "type(filtered_camera) \n",
    "plt.imshow(filtered_camera, cmap='gray', interpolation='nearest') \n",
    "plt.show()\n"
   ]
  },
  {
   "cell_type": "markdown",
   "metadata": {
    "id": "qfuaL_sOLAhs"
   },
   "source": [
    "Some image processing routines need to work with float arrays, and may hence output an array with a different type and the data range from the input array"
   ]
  },
  {
   "cell_type": "code",
   "execution_count": null,
   "metadata": {
    "id": "WbWBPB3oLAhs",
    "outputId": "853a028d-1e35-4f9a-a99d-45078d8b502f"
   },
   "outputs": [],
   "source": [
    "camera = data.camera()\n",
    "camera.dtype\n",
    "camera_multiply = 3 * camera\n",
    "plt.imshow(camera_multiply, cmap='gray', interpolation='nearest') \n",
    "plt.show()\n",
    "\n"
   ]
  },
  {
   "cell_type": "code",
   "execution_count": null,
   "metadata": {
    "id": "Mk8QVzE9LAht",
    "outputId": "c64e4c85-9ea4-4fe8-ae6f-08faf0d70355"
   },
   "outputs": [],
   "source": [
    "from skimage import img_as_float\n",
    "camera_float = img_as_float(camera)\n",
    "camera.max(), camera_float.max()\n",
    "\n",
    "plt.imshow(camera_float, cmap='gray', interpolation='nearest') \n",
    "plt.show()\n",
    "\n"
   ]
  },
  {
   "cell_type": "code",
   "execution_count": null,
   "metadata": {
    "id": "H7xuohReLAhv",
    "outputId": "b623e3c9-e87a-4402-e712-6919175a7810"
   },
   "outputs": [],
   "source": [
    "from skimage import filters\n",
    "camera_sobel = filters.sobel(camera)\n",
    "camera_sobel.max() \n",
    "plt.imshow(camera_sobel, cmap='gray', interpolation='nearest') \n",
    "plt.show()\n",
    "\n"
   ]
  },
  {
   "cell_type": "markdown",
   "metadata": {
    "id": "r6_Ud5QHLAhw"
   },
   "source": [
    "Color images are of shape (N, M, 3) or (N, M, 4) (when an alpha channel encodes transparency)\n",
    "\n",
    "Routines converting between different colorspaces (RGB, HSV, LAB etc.) are available in skimage.color : color.rgb2hsv, color.lab2rgb, etc. Check the docstring for the expected dtype (and data range) of input images."
   ]
  },
  {
   "cell_type": "code",
   "execution_count": null,
   "metadata": {
    "id": "YtJxAINnLAhx",
    "outputId": "2d8194f4-1f26-4297-a222-a3c3a03ff83d"
   },
   "outputs": [],
   "source": [
    "import scipy\n",
    "face = scipy.misc.face()\n",
    "face.shape\n"
   ]
  },
  {
   "cell_type": "markdown",
   "metadata": {
    "id": "qsFMiMovLAhy"
   },
   "source": [
    "Goals: denoising, feature (edges) extraction, …"
   ]
  },
  {
   "cell_type": "markdown",
   "metadata": {
    "id": "-328J3nYLAhy"
   },
   "source": [
    "Local filters replace the value of pixels by a function of the values of neighboring pixels. The function can be linear or non-linear.\n",
    "Neighbourhood: square (choose size), disk, or more complicated structuring element."
   ]
  },
  {
   "cell_type": "markdown",
   "metadata": {
    "id": "bAup6L_lLAhz"
   },
   "source": [
    "![kernels1.png](https://github.com/BlohmLab/NSCI801-QuantNeuro/blob/master/Figures/kernels1.png?raw=1)"
   ]
  },
  {
   "cell_type": "code",
   "execution_count": null,
   "metadata": {
    "id": "u0QkRkhgLAhz"
   },
   "outputs": [],
   "source": [
    "text = data.text()\n",
    "hsobel_text = filters.sobel_h(text)"
   ]
  },
  {
   "cell_type": "markdown",
   "metadata": {
    "id": "RPTv7qkJLAh0"
   },
   "source": [
    "Non-local filters use a large region of the image (or all the image) to transform the value of one pixel:\n",
    "\n",
    "Enhances contrast in large almost uniform regions."
   ]
  },
  {
   "cell_type": "code",
   "execution_count": null,
   "metadata": {
    "id": "uBb6A-HdLAh1",
    "outputId": "94cabb62-c27c-40c6-9cd8-dad855ebf020"
   },
   "outputs": [],
   "source": [
    "from skimage import exposure\n",
    "camera = data.camera()\n",
    "camera_equalized = exposure.equalize_hist(camera)\n",
    "\n",
    "# plt.imshow(camera, cmap='gray', interpolation='nearest') \n",
    "plt.imshow(camera_equalized, cmap='gray', interpolation='nearest') \n",
    "plt.show()\n",
    "\n"
   ]
  },
  {
   "cell_type": "markdown",
   "metadata": {
    "id": "jdu6ka1dLAh2"
   },
   "source": [
    "## Mathematics on Images"
   ]
  },
  {
   "cell_type": "markdown",
   "metadata": {
    "id": "v61F_bHxLAh2"
   },
   "source": [
    "Probe an image with a simple shape (a structuring element), and modify this image according to how the shape locally fits or misses the image.\n",
    "\n",
    "Default structuring element: 4-connectivity of a pixel"
   ]
  },
  {
   "cell_type": "code",
   "execution_count": null,
   "metadata": {
    "id": "09jjc_-fLAh2",
    "outputId": "001e72d0-936f-49d3-d929-faecdbf90c79"
   },
   "outputs": [],
   "source": [
    "from skimage import morphology\n",
    "morphology.diamond(1)"
   ]
  },
  {
   "cell_type": "markdown",
   "metadata": {
    "id": "8gM2zDVbLAh4"
   },
   "source": [
    "Erosion = minimum filter. Replace the value of a pixel by the minimal value covered by the structuring element.:"
   ]
  },
  {
   "cell_type": "code",
   "execution_count": null,
   "metadata": {
    "id": "pj2gMtocLAh5",
    "outputId": "2c9eaffe-f0f9-4ee0-ab5e-dbccdbb18fc0"
   },
   "outputs": [],
   "source": [
    "a = np.zeros((7,7), dtype=np.uint8)\n",
    "a[1:6, 2:5] = 1\n",
    "a\n",
    "\n",
    "morphology.binary_erosion(a, morphology.diamond(1)).astype(np.uint8)\n",
    "\n",
    "\n",
    "#Erosion removes objects smaller than the structure\n",
    "morphology.binary_erosion(a, morphology.diamond(2)).astype(np.uint8)\n"
   ]
  },
  {
   "cell_type": "markdown",
   "metadata": {
    "id": "eqGchZckLAh6"
   },
   "source": [
    "Dilation: maximum filter:"
   ]
  },
  {
   "cell_type": "code",
   "execution_count": null,
   "metadata": {
    "id": "cIrZ-5xiLAh6",
    "outputId": "71050a4d-477d-427c-dce2-cb6aaab7ef87"
   },
   "outputs": [],
   "source": [
    "a = np.zeros((5, 5))\n",
    "a[2, 2] = 1\n",
    "a\n",
    "\n",
    "\n",
    "\n",
    "\n",
    "\n",
    "morphology.binary_dilation(a, morphology.diamond(1)).astype(np.uint8)\n",
    "\n",
    "\n",
    "\n",
    "\n",
    "\n"
   ]
  },
  {
   "cell_type": "markdown",
   "metadata": {
    "id": "pknvULtWLAh8"
   },
   "source": [
    "Opening: erosion + dilation:\n",
    "\n",
    "Opening removes small objects and smoothes corners."
   ]
  },
  {
   "cell_type": "code",
   "execution_count": null,
   "metadata": {
    "id": "8izK5UMpLAh8",
    "outputId": "810ccc76-fca0-4004-9e48-41e8f3f074fa"
   },
   "outputs": [],
   "source": [
    "a = np.zeros((5,5), dtype=np.int)\n",
    "a[1:4, 1:4] = 1; a[4, 4] = 1\n",
    "a\n",
    "\n",
    "morphology.binary_opening(a, morphology.diamond(1)).astype(np.uint8)\n"
   ]
  },
  {
   "cell_type": "markdown",
   "metadata": {
    "id": "lsXbMiD8LAh9"
   },
   "source": [
    "## Example of filters comparison: image denoising"
   ]
  },
  {
   "cell_type": "code",
   "execution_count": null,
   "metadata": {
    "id": "Dg5M42NILAh9",
    "outputId": "cce28d37-98e3-47fc-f7bc-9225ed0fcb71"
   },
   "outputs": [],
   "source": [
    "from skimage.morphology import disk\n",
    "coins = data.coins()\n",
    "coins_zoom = coins[10:80, 300:370]\n",
    "median_coins = filters.median(coins_zoom, disk(1))\n",
    "from skimage import restoration\n",
    "tv_coins = restoration.denoise_tv_chambolle(coins_zoom, weight=0.1)\n",
    "gaussian_coins = filters.gaussian(coins, sigma=2)\n",
    "\n",
    "plt.imshow(coins_zoom, cmap='gray', interpolation='nearest') \n",
    "plt.show()"
   ]
  },
  {
   "cell_type": "markdown",
   "metadata": {
    "id": "dCMfpdZULAh-"
   },
   "source": [
    "## Image segmentation\n",
    "\n",
    "Image segmentation is the attribution of different labels to different regions of the image, for example in order to extract the pixels of an object of interest."
   ]
  },
  {
   "cell_type": "markdown",
   "metadata": {
    "id": "k2XpUFkqLAh_"
   },
   "source": [
    "#### 3.3.4.1. Binary segmentation: foreground + background"
   ]
  },
  {
   "cell_type": "code",
   "execution_count": null,
   "metadata": {
    "id": "_2YoDC9TLAh_",
    "outputId": "ddef74a1-7221-4be2-ddfc-f5d206509772"
   },
   "outputs": [],
   "source": [
    "from skimage import data\n",
    "from skimage import filters\n",
    "camera = data.camera()\n",
    "val = filters.threshold_otsu(camera)\n",
    "mask = camera < val\n",
    "\n",
    "import matplotlib.pyplot as plt\n",
    "from skimage import data\n",
    "from skimage import filters\n",
    "from skimage import exposure\n",
    "\n",
    "camera = data.camera()\n",
    "val = filters.threshold_otsu(camera)\n",
    "\n",
    "hist, bins_center = exposure.histogram(camera)\n",
    "\n",
    "plt.figure(figsize=(9, 4))\n",
    "plt.subplot(131)\n",
    "plt.imshow(camera, cmap='gray', interpolation='nearest')\n",
    "plt.axis('off')\n",
    "plt.subplot(132)\n",
    "plt.imshow(camera < val, cmap='gray', interpolation='nearest')\n",
    "plt.axis('off')\n",
    "plt.subplot(133)\n",
    "plt.plot(bins_center, hist, lw=2)\n",
    "plt.axvline(val, color='k', ls='--')\n",
    "\n",
    "plt.tight_layout()\n",
    "plt.show()"
   ]
  },
  {
   "cell_type": "markdown",
   "metadata": {
    "id": "npXow_DJLAiB"
   },
   "source": [
    "So The Question is why is this helpful??"
   ]
  },
  {
   "cell_type": "markdown",
   "metadata": {
    "id": "vJuDvE4-LAiB"
   },
   "source": [
    "# Cell Counting"
   ]
  },
  {
   "cell_type": "markdown",
   "metadata": {
    "id": "R0ntvTL9LAiB"
   },
   "source": [
    "\n",
    "\n",
    "![dna](https://github.com/BlohmLab/NSCI801-QuantNeuro/blob/master/Figures/dna.jpeg?raw=true)"
   ]
  },
  {
   "cell_type": "code",
   "execution_count": null,
   "metadata": {
    "id": "p55HTONjLAiC"
   },
   "outputs": [],
   "source": [
    "import numpy as np\n",
    "import pylab\n",
    "import mahotas as mh\n",
    "\n",
    "#read in data\n",
    "dna = mh.imread('Figures/dna.jpeg')\n",
    "dna.shape\n",
    "dna_new = dna.squeeze()"
   ]
  },
  {
   "cell_type": "code",
   "execution_count": null,
   "metadata": {
    "id": "D-g86PCxLAiD",
    "outputId": "b5f231cc-a96f-48b6-8e13-a80a7e43f60e"
   },
   "outputs": [],
   "source": [
    "pylab.imshow(dna_new)\n",
    "pylab.show()"
   ]
  },
  {
   "cell_type": "markdown",
   "metadata": {
    "id": "W_utaVz5LAiE"
   },
   "source": [
    "You might be surprised that the image does not look at all like the one above. It will probably look like:\n",
    "\n",
    "This is because, by default, pylab shows images as a heatmap. You can see the more traditional grey-scale image by switching the colormap used. Instead of the default jet colourmap, we can set it to the gray one, which is the traditional greyscale representation"
   ]
  },
  {
   "cell_type": "code",
   "execution_count": null,
   "metadata": {
    "id": "2pdpT8NMLAiE",
    "outputId": "0ae256fa-b725-46d9-86b3-2b0c09d278f5"
   },
   "outputs": [],
   "source": [
    "pylab.imshow(dna_new)\n",
    "pylab.gray()\n",
    "pylab.show()"
   ]
  },
  {
   "cell_type": "code",
   "execution_count": null,
   "metadata": {
    "id": "vxIjFLzSLAiF",
    "outputId": "34ff69ea-09f2-4d30-a591-05828189642a"
   },
   "outputs": [],
   "source": [
    "print(dna_new.shape)\n",
    "print(dna_new.dtype)\n",
    "print(dna_new.max())\n",
    "print(dna_new.min())"
   ]
  },
  {
   "cell_type": "markdown",
   "metadata": {
    "id": "dX09EPrZLAiG"
   },
   "source": [
    "The shape is 1024 pixels high and 1344 pixels across (recall that the convention is the matrix convention: height x width). The type is uint8, i.e., unsigned 8-bit integer. The maximum value is 252 and the minimum value is 0 3."
   ]
  },
  {
   "cell_type": "markdown",
   "metadata": {
    "id": "mhXg9AR7LAiG"
   },
   "source": [
    "# Lets figure this out"
   ]
  },
  {
   "cell_type": "markdown",
   "metadata": {
    "id": "MDLtzI_vLAiH"
   },
   "source": [
    "Here’s the first idea for counting the nuclei. We are going to threshold the image and count the number of objects.\n",
    "\n",
    "\n"
   ]
  },
  {
   "cell_type": "code",
   "execution_count": null,
   "metadata": {
    "id": "oWoGwDMSLAiH",
    "outputId": "471e7300-706d-41bd-ac62-99ded707ba92"
   },
   "outputs": [],
   "source": [
    "T = mh.thresholding.otsu(dna_new)\n",
    "pylab.imshow(dna_new > T)\n",
    "pylab.show()"
   ]
  },
  {
   "cell_type": "markdown",
   "metadata": {
    "id": "ZvCIV6GyLAiI"
   },
   "source": [
    "Here, again, we are taking advantage of the fact that dna is a numpy array and using it in logical operations (dna > T). The result is a numpy array of booleans, which pylab shows as a black and white image (or red and blue if you have not previously called pylab.gray()).\n"
   ]
  },
  {
   "cell_type": "markdown",
   "metadata": {
    "id": "3RIBYf40LAiI"
   },
   "source": [
    "This isn’t too good. The image contains many small objects. There are a couple of ways to solve this. A simple one is to smooth the image a bit using a Gaussian filter."
   ]
  },
  {
   "cell_type": "code",
   "execution_count": null,
   "metadata": {
    "id": "b74XDnUQLAiJ",
    "outputId": "aae72ef5-fbe0-4c24-bac0-b60e0fd0ea30"
   },
   "outputs": [],
   "source": [
    "dnaf = mh.gaussian_filter(dna_new, 8)\n",
    "dnaf1 =  dnaf.astype('uint8')\n",
    "print(dnaf1)\n",
    "T = mh.thresholding.otsu(dnaf1)\n",
    "pylab.imshow(dnaf1 > T)\n",
    "pylab.show()"
   ]
  },
  {
   "cell_type": "markdown",
   "metadata": {
    "id": "bMZHRxWZLAiJ"
   },
   "source": [
    "The function mh.gaussian_filter takes an image and the standard deviation of the filter (in pixel units) and returns the filtered image. We are jumping from one package to the next, calling mahotas to filter the image and to compute the threshold, using numpy operations to create a thresholded images, and pylab to display it, but everyone works with numpy arrays. The result is much better.\n",
    "\n",
    "We now have some merged nuclei (those that are touching), but overall the result looks much better. The final count is only one extra function call away:"
   ]
  },
  {
   "cell_type": "code",
   "execution_count": null,
   "metadata": {
    "id": "sDqs7SukLAiK",
    "outputId": "9e10b209-5881-4eef-d373-da39cc1b6ba6"
   },
   "outputs": [],
   "source": [
    "labeled,nr_objects = mh.label(dnaf > T)\n",
    "print(nr_objects)\n",
    "pylab.imshow(labeled)\n",
    "pylab.jet()\n",
    "pylab.show()"
   ]
  },
  {
   "cell_type": "code",
   "execution_count": null,
   "metadata": {
    "id": "r4UVdQ3oLAiK"
   },
   "outputs": [],
   "source": []
  },
  {
   "cell_type": "markdown",
   "metadata": {
    "id": "A72WybWmNU1a"
   },
   "source": [
    "Is this alright?\n",
    "\n",
    "![alt text](https://github.com/BlohmLab/NSCI801-QuantNeuro/blob/master/Figures/hardno.png?raw=1)\n",
    "\n",
    "![alt text](https://github.com/BlohmLab/NSCI801-QuantNeuro/blob/master/Figures/Icandobetter.png?raw=1)"
   ]
  },
  {
   "cell_type": "markdown",
   "metadata": {
    "id": "L2UkW-hELAiL"
   },
   "source": [
    "We now have the number of objects in the image (18), and we also displayed the labeled image. The call to pylab.jet() just resets the colourmap to jet if you still had the greyscale map active.\n",
    "\n",
    "We can explore the labeled object. It is an integer array of exactly the same size as the image that was given to mh.label(). It’s value is the label of the object at that position, so that values range from 0 (the background) to nr_objects.\n"
   ]
  },
  {
   "cell_type": "markdown",
   "metadata": {
    "id": "ky972T1FLAiL"
   },
   "source": [
    "## Second Task: Segmentation of the image"
   ]
  },
  {
   "cell_type": "markdown",
   "metadata": {
    "id": "jg8Zsxf0LAiM"
   },
   "source": [
    "The previous result was acceptable for a first pass, but there were still nuclei glued together. Let’s try to do better.\n",
    "\n",
    "Here is a simple, traditional, idea:\n",
    "\n",
    "1 - smooth the image\n",
    "2 - find regional maxima\n",
    "3 - Use the regional maxima as seeds for watershed"
   ]
  },
  {
   "cell_type": "markdown",
   "metadata": {
    "id": "4dHiOb6KLAiM"
   },
   "source": [
    "## Finding the seeds"
   ]
  },
  {
   "cell_type": "code",
   "execution_count": null,
   "metadata": {
    "id": "5DWP0oY_LAiM",
    "outputId": "7d36c12e-3fb2-4b22-f21b-c41d99d77fa7"
   },
   "outputs": [],
   "source": [
    "dnaf = mh.gaussian_filter(dna_new, 8)\n",
    "print(dnaf)\n",
    "dnaf_8 =  dnaf.astype('uint8')\n",
    "# print(dna_new[dna_new>T])\n",
    "rmax = mh.regmax(dnaf_8)\n",
    "pylab.imshow(mh.overlay(dna_new, rmax))\n",
    "pylab.show()"
   ]
  },
  {
   "cell_type": "code",
   "execution_count": null,
   "metadata": {
    "id": "OzJ4AsPRLAiN",
    "outputId": "97ac3055-9f3b-4977-86e3-481184c348e5"
   },
   "outputs": [],
   "source": [
    "pylab.imshow(dnaf)\n",
    "pylab.show()"
   ]
  },
  {
   "cell_type": "markdown",
   "metadata": {
    "id": "F3hIoab_LAiO"
   },
   "source": [
    "After a little fiddling around, we decide to try the same idea with a thresholded_image:"
   ]
  },
  {
   "cell_type": "code",
   "execution_count": null,
   "metadata": {
    "id": "69h74dyxLAiO",
    "outputId": "f2b8befc-8693-42a5-f9b2-5081f7b5564e"
   },
   "outputs": [],
   "source": [
    "dnaf = mh.gaussian_filter(dna_new, 16)\n",
    "dnaf_8 =  dnaf.astype('uint8')\n",
    "rmax = mh.regmax(dnaf_8)\n",
    "pylab.imshow(mh.overlay(dna_new, rmax))\n",
    "pylab.show()"
   ]
  },
  {
   "cell_type": "code",
   "execution_count": null,
   "metadata": {
    "id": "JDlY0AIYLAiP",
    "outputId": "bf0a2cc6-4de1-46e8-960d-5f4df29aace9"
   },
   "outputs": [],
   "source": [
    "seeds,nr_nuclei = mh.label(rmax)\n",
    "print(nr_nuclei)\n",
    "np.where(seeds>0)"
   ]
  },
  {
   "cell_type": "markdown",
   "metadata": {
    "id": "bp0lMBK4LAiQ"
   },
   "source": [
    "Now things look much better."
   ]
  },
  {
   "cell_type": "markdown",
   "metadata": {
    "id": "2nY-gYwGLAiQ"
   },
   "source": [
    "# Watershed\n",
    "\n",
    "\n",
    "We are going to apply watershed to the distance transform of the thresholded image:"
   ]
  },
  {
   "cell_type": "markdown",
   "metadata": {
    "id": "beKEbGtrLAiQ"
   },
   "source": [
    "Watershedding treats images like a set of peaks and valleys - and tries to cut them down accordingly"
   ]
  },
  {
   "cell_type": "code",
   "execution_count": null,
   "metadata": {
    "id": "7YFGqNXrLAiR",
    "outputId": "7cac0716-771c-4531-8dda-d1a46613f189"
   },
   "outputs": [],
   "source": [
    "dnaf = mh.gaussian_filter(dna_new, 16)\n",
    "# dnaf2 =  dnaf.astype('uint8')\n",
    "T1 = mh.thresholding.otsu(dnaf2)\n",
    "print\n",
    "dist = mh.distance(dnaf2 > T1)\n",
    "dist = dist.max() - dist\n",
    "dist -= dist.min()\n",
    "dist = dist/float(dist.ptp()) * 255\n",
    "dist = dist.astype(np.uint8)\n",
    "pylab.imshow(dist)\n",
    "pylab.show()"
   ]
  },
  {
   "cell_type": "markdown",
   "metadata": {
    "id": "FPN_eutoLAiS"
   },
   "source": [
    "After we contrast stretched the dist image, we can call mh.cwatershed to get the final result (the colours in the image come from it being displayed using the jet colourmap):\n",
    "\n"
   ]
  },
  {
   "cell_type": "code",
   "execution_count": null,
   "metadata": {
    "id": "DYnTUmHMLAiS",
    "outputId": "72feb5bc-e859-42cc-8ec8-6615edfa5cd4"
   },
   "outputs": [],
   "source": [
    "# dnaf = mh.gaussian_filter(dna_new, 16)\n",
    "# # print(dnaf)\n",
    "# dnaf_8 =  dna_new.astype('uint8')\n",
    "# nuclei = mh.cwatershed(dnaf_8, seeds)\n",
    "# print(nuclei)\n",
    "# pylab.imshow(nuclei)\n",
    "# pylab.show()\n",
    "\n",
    "nuclei = mh.cwatershed(dist, seeds)\n",
    "pylab.imshow(nuclei)\n",
    "pylab.show()\n"
   ]
  },
  {
   "cell_type": "code",
   "execution_count": null,
   "metadata": {
    "id": "1nYAiaZNLAiT",
    "outputId": "64564e2a-ee70-43e0-f69b-5ea0f710aa86"
   },
   "outputs": [],
   "source": [
    "whole = mh.segmentation.gvoronoi(nuclei)\n",
    "pylab.imshow(whole)\n",
    "pylab.show()"
   ]
  },
  {
   "cell_type": "code",
   "execution_count": null,
   "metadata": {
    "id": "PHtfIwxgLAiU"
   },
   "outputs": [],
   "source": []
  },
  {
   "cell_type": "code",
   "execution_count": null,
   "metadata": {
    "id": "gu32OCAxLAiU"
   },
   "outputs": [],
   "source": []
  }
 ],
 "metadata": {
  "celltoolbar": "Slideshow",
  "colab": {
   "name": "NSCI801_Image_Processing_Proper_v2.ipynb",
   "provenance": []
  },
  "kernelspec": {
   "display_name": "nsci",
   "language": "python",
   "name": "nsci"
  },
  "language_info": {
   "codemirror_mode": {
    "name": "ipython",
    "version": 3
   },
   "file_extension": ".py",
   "mimetype": "text/x-python",
   "name": "python",
   "nbconvert_exporter": "python",
   "pygments_lexer": "ipython3",
   "version": "3.9.5"
  }
 },
 "nbformat": 4,
 "nbformat_minor": 1
}
